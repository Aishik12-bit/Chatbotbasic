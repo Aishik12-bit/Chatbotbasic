{
 "cells": [
  {
   "cell_type": "code",
   "execution_count": 1,
   "id": "7cc4b097",
   "metadata": {},
   "outputs": [
    {
     "name": "stdout",
     "output_type": "stream",
     "text": [
      "Collecting SpeechRecognition\n",
      "  Using cached SpeechRecognition-3.9.0-py2.py3-none-any.whl (32.8 MB)\n",
      "Requirement already satisfied: requests>=2.26.0 in c:\\users\\abc\\anaconda3\\lib\\site-packages (from SpeechRecognition) (2.27.1)\n",
      "Requirement already satisfied: urllib3<1.27,>=1.21.1 in c:\\users\\abc\\anaconda3\\lib\\site-packages (from requests>=2.26.0->SpeechRecognition) (1.26.9)\n",
      "Requirement already satisfied: certifi>=2017.4.17 in c:\\users\\abc\\anaconda3\\lib\\site-packages (from requests>=2.26.0->SpeechRecognition) (2021.10.8)\n",
      "Requirement already satisfied: charset-normalizer~=2.0.0 in c:\\users\\abc\\anaconda3\\lib\\site-packages (from requests>=2.26.0->SpeechRecognition) (2.0.4)\n",
      "Requirement already satisfied: idna<4,>=2.5 in c:\\users\\abc\\anaconda3\\lib\\site-packages (from requests>=2.26.0->SpeechRecognition) (3.3)\n",
      "Installing collected packages: SpeechRecognition\n",
      "Successfully installed SpeechRecognition-3.9.0\n",
      "Note: you may need to restart the kernel to use updated packages.\n"
     ]
    }
   ],
   "source": [
    "pip install SpeechRecognition\n"
   ]
  },
  {
   "cell_type": "code",
   "execution_count": 2,
   "id": "1d3c2f54",
   "metadata": {},
   "outputs": [
    {
     "name": "stdout",
     "output_type": "stream",
     "text": [
      "Collecting pyttsx3\n",
      "  Downloading pyttsx3-2.90-py3-none-any.whl (39 kB)\n",
      "Requirement already satisfied: pywin32 in c:\\users\\abc\\anaconda3\\lib\\site-packages (from pyttsx3) (302)\n",
      "Collecting pypiwin32\n",
      "  Downloading pypiwin32-223-py3-none-any.whl (1.7 kB)\n",
      "Requirement already satisfied: comtypes in c:\\users\\abc\\anaconda3\\lib\\site-packages (from pyttsx3) (1.1.10)\n",
      "Installing collected packages: pypiwin32, pyttsx3\n",
      "Successfully installed pypiwin32-223 pyttsx3-2.90\n",
      "Note: you may need to restart the kernel to use updated packages.\n"
     ]
    }
   ],
   "source": [
    "pip install pyttsx3\n"
   ]
  },
  {
   "cell_type": "code",
   "execution_count": null,
   "id": "f005f908",
   "metadata": {},
   "outputs": [
    {
     "name": "stdout",
     "output_type": "stream",
     "text": [
      "result2:\n",
      "[]\n",
      "result2:\n",
      "{   'alternative': [   {   'confidence': 0.87131703,\n",
      "                           'transcript': 'implementation of doubly linked '\n",
      "                                         'list'},\n",
      "                       {'transcript': 'implementation of doubling'},\n",
      "                       {'transcript': 'implementation of doubly linked'},\n",
      "                       {'transcript': 'implementation of doubly LinkedIn'}],\n",
      "    'final': True}\n",
      "result2:\n",
      "{   'alternative': [   {   'confidence': 0.8415615,\n",
      "                           'transcript': 'is your work duplication list'},\n",
      "                       {'transcript': 'is your work duplication'},\n",
      "                       {   'transcript': 'is your worksheet binary search '\n",
      "                                         'duplication list'},\n",
      "                       {   'transcript': 'is your worksheet binary search '\n",
      "                                         'duplication'},\n",
      "                       {'transcript': 'is your work duplication lying list'}],\n",
      "    'final': True}\n"
     ]
    }
   ],
   "source": [
    "import speech_recognition as sr\n",
    "import pyttsx3\n",
    "\n",
    "# Set up the speech recognition and text-to-speech engines\n",
    "r = sr.Recognizer()\n",
    "engine = pyttsx3.init()\n",
    "\n",
    "# Define a function to listen for and process user input\n",
    "def process_speech():\n",
    "    # Listen for user input\n",
    "    with sr.Microphone() as source:\n",
    "        audio = r.listen(source)\n",
    "\n",
    "    # Try to recognize the user's speech\n",
    "    try:\n",
    "        user_input = r.recognize_google(audio)\n",
    "        return user_input\n",
    "    except sr.UnknownValueError:\n",
    "        return None\n",
    "\n",
    "# Define a function to speak a given message\n",
    "def speak(message):\n",
    "    engine.say(message)\n",
    "    engine.runAndWait()\n",
    "\n",
    "# Define a function to respond to user input\n",
    "def respond(user_input):\n",
    "    # Check if the user said \"hello\"\n",
    "    if \"hello\" in user_input:\n",
    "        speak(\"Hello issha! How can I help you?\")\n",
    "    # Check if the user asked a question\n",
    "    elif \"?\" in user_input:\n",
    "        speak(\"I'm sorry, I'm not able to answer questions at this time.\")\n",
    "    # Check if the user said \"goodbye\"\n",
    "    elif \"goodbye\" in user_input:\n",
    "        speak(\"Goodbye! Have a great day.\")\n",
    "    # If none of the above conditions are met, respond with a default message\n",
    "    else:\n",
    "        speak(\"I'm sorry, I didn't understand what you said. Could you please repeat that?\")\n",
    "\n",
    "# Start the main loop\n",
    "while True:\n",
    "    user_input = process_speech()\n",
    "    if user_input:\n",
    "        respond(user_input)\n"
   ]
  },
  {
   "cell_type": "code",
   "execution_count": 2,
   "id": "b4a8768d",
   "metadata": {},
   "outputs": [
    {
     "name": "stdout",
     "output_type": "stream",
     "text": [
      "Collecting PyAudio\n",
      "  Downloading PyAudio-0.2.12-cp39-cp39-win_amd64.whl (163 kB)\n",
      "Installing collected packages: PyAudio\n",
      "Successfully installed PyAudio-0.2.12\n",
      "Note: you may need to restart the kernel to use updated packages.\n"
     ]
    }
   ],
   "source": [
    "pip install PyAudio"
   ]
  },
  {
   "cell_type": "code",
   "execution_count": null,
   "id": "e6f9e8c8",
   "metadata": {},
   "outputs": [
    {
     "name": "stdout",
     "output_type": "stream",
     "text": [
      "result2:\n",
      "[]\n",
      "result2:\n",
      "[]\n",
      "result2:\n",
      "[]\n",
      "result2:\n",
      "[]\n"
     ]
    },
    {
     "name": "stderr",
     "output_type": "stream",
     "text": [
      "Exception ignored in: <function BSTR.__del__ at 0x00000266BDE3AEE0>\n",
      "Traceback (most recent call last):\n",
      "  File \"C:\\Users\\abc\\anaconda3\\lib\\site-packages\\comtypes\\__init__.py\", line 999, in __del__\n",
      "    def __del__(self, _free=windll.oleaut32.SysFreeString):\n",
      "KeyboardInterrupt: \n"
     ]
    },
    {
     "name": "stdout",
     "output_type": "stream",
     "text": [
      "result2:\n",
      "[]\n"
     ]
    }
   ],
   "source": [
    "import speech_recognition as sr\n",
    "import pyttsx3\n",
    "\n",
    "# Initialize the speech engine\n",
    "engine = pyttsx3.init()\n",
    "\n",
    "# Set the rate and volume of the speech engine\n",
    "rate = engine.getProperty(\"rate\")\n",
    "engine.setProperty(\"rate\", rate - 10)\n",
    "volume = engine.getProperty(\"volume\")\n",
    "engine.setProperty(\"volume\", volume + 0.5)\n",
    "\n",
    "# Define a function to speak a given text\n",
    "def speak(text):\n",
    "    engine.say(text)\n",
    "    engine.runAndWait()\n",
    "\n",
    "# Define a function to listen for and recognize user input\n",
    "def listen():\n",
    "    # Create a speech recognizer\n",
    "    recognizer = sr.Recognizer()\n",
    "\n",
    "    # Listen for user input\n",
    "    with sr.Microphone() as source:\n",
    "        recognizer.adjust_for_ambient_noise(source)\n",
    "        audio = recognizer.listen(source)\n",
    "\n",
    "    # Try to recognize the user's input\n",
    "    try:\n",
    "        text = recognizer.recognize_google(audio)\n",
    "        return text\n",
    "    except:\n",
    "        return \"\"\n",
    "\n",
    "# Define a function to respond to the user's input\n",
    "def respond(input):\n",
    "    # Check if the user said \"hello\"\n",
    "    if \"hello\" in input:\n",
    "        speak(\"Hello Biswaraj! How can I help you?\")\n",
    "    # Check if the user said \"how are you\"\n",
    "    elif \"how are you\" in input:\n",
    "        speak(\"I'm doing well, thank you. How about you?\")\n",
    "    # Check if the user said \"goodbye\"\n",
    "    elif \"goodbye\" in input:\n",
    "        speak(\"Goodbye! Have a great day!\")\n",
    "    # If the user's input doesn't match any of the above, say \"I'm sorry, I didn't understand\"\n",
    "    else:\n",
    "        speak(\"I'm sorry, I didn't understand. Can you please repeat that?\")\n",
    "\n",
    "# Start a conversation with the user\n",
    "speak(\"Hello! I'm a chatbot. What's your name?\")\n",
    "name = listen()\n",
    "speak(f\"Nice to meet you, {name}! What can I help you with today?\")\n",
    "\n",
    "# Keep listening for user input and responding until the user says \"goodbye\"\n",
    "while True:\n",
    "    input = listen()\n",
    "    if \"goodbye\" in input:\n",
    "        break\n",
    "    respond(input)\n"
   ]
  },
  {
   "cell_type": "code",
   "execution_count": null,
   "id": "eab37404",
   "metadata": {},
   "outputs": [],
   "source": []
  }
 ],
 "metadata": {
  "kernelspec": {
   "display_name": "Python 3 (ipykernel)",
   "language": "python",
   "name": "python3"
  },
  "language_info": {
   "codemirror_mode": {
    "name": "ipython",
    "version": 3
   },
   "file_extension": ".py",
   "mimetype": "text/x-python",
   "name": "python",
   "nbconvert_exporter": "python",
   "pygments_lexer": "ipython3",
   "version": "3.9.12"
  }
 },
 "nbformat": 4,
 "nbformat_minor": 5
}
